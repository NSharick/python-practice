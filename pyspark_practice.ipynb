{
 "cells": [
  {
   "cell_type": "markdown",
   "id": "31b5057f",
   "metadata": {},
   "source": [
    "#### Practice with PySpark"
   ]
  },
  {
   "cell_type": "code",
   "execution_count": 1,
   "id": "3d54b6ee",
   "metadata": {},
   "outputs": [],
   "source": [
    "import pandas as pd\n",
    "import numpy as np\n",
    "import pyspark\n",
    "import pyspark.sql.functions as f\n",
    "from pyspark.sql.functions import when\n",
    "from pyspark.sql.functions import lit\n",
    "from pydataset import data"
   ]
  },
  {
   "cell_type": "code",
   "execution_count": 3,
   "id": "0947bb17",
   "metadata": {},
   "outputs": [
    {
     "name": "stderr",
     "output_type": "stream",
     "text": [
      "22/06/29 11:55:34 WARN Utils: Your hostname, Nathans-MacBook-Pro.local resolves to a loopback address: 127.0.0.1; using 192.168.0.20 instead (on interface en0)\n",
      "22/06/29 11:55:34 WARN Utils: Set SPARK_LOCAL_IP if you need to bind to another address\n",
      "WARNING: An illegal reflective access operation has occurred\n",
      "WARNING: Illegal reflective access by org.apache.spark.unsafe.Platform (file:/opt/anaconda3/lib/python3.9/site-packages/pyspark/jars/spark-unsafe_2.12-3.2.1.jar) to constructor java.nio.DirectByteBuffer(long,int)\n",
      "WARNING: Please consider reporting this to the maintainers of org.apache.spark.unsafe.Platform\n",
      "WARNING: Use --illegal-access=warn to enable warnings of further illegal reflective access operations\n",
      "WARNING: All illegal access operations will be denied in a future release\n",
      "Using Spark's default log4j profile: org/apache/spark/log4j-defaults.properties\n",
      "Setting default log level to \"WARN\".\n",
      "To adjust logging level use sc.setLogLevel(newLevel). For SparkR, use setLogLevel(newLevel).\n",
      "22/06/29 11:55:35 WARN NativeCodeLoader: Unable to load native-hadoop library for your platform... using builtin-java classes where applicable\n",
      "[Stage 0:>                                                          (0 + 1) / 1]\r"
     ]
    },
    {
     "name": "stdout",
     "output_type": "stream",
     "text": [
      "+----------+----+------+------+---+------+----+\n",
      "|total_bill| tip|   sex|smoker|day|  time|size|\n",
      "+----------+----+------+------+---+------+----+\n",
      "|     16.99|1.01|Female|    No|Sun|Dinner|   2|\n",
      "|     10.34|1.66|  Male|    No|Sun|Dinner|   3|\n",
      "|     21.01| 3.5|  Male|    No|Sun|Dinner|   3|\n",
      "|     23.68|3.31|  Male|    No|Sun|Dinner|   2|\n",
      "|     24.59|3.61|Female|    No|Sun|Dinner|   4|\n",
      "+----------+----+------+------+---+------+----+\n",
      "only showing top 5 rows\n",
      "\n"
     ]
    },
    {
     "name": "stderr",
     "output_type": "stream",
     "text": [
      "\r",
      "                                                                                \r"
     ]
    }
   ],
   "source": [
    "#The SparkSession is an entry point to underlying PySpark functionality \n",
    "#to programmatically create PySpark RDD, DataFrame, and Dataset\n",
    "#SparkSession can be created using SparkSession.builder builder patterns.\n",
    "#getOrCreate() the method returns an existing SparkSession if it exists otherwise it creates a new SparkSession.\n",
    "spark = pyspark.sql.SparkSession.builder.getOrCreate()\n",
    "#spark.read.csv(csv_file), spark.read.json(json_file), and spark.read.parquet(parquet_file) \n",
    "#can be used to read in data\n",
    "#.createDataFrame can also be used with practice datasets from pydataset\n",
    "tips = spark.createDataFrame(data(\"tips\"))\n",
    "#.show() is like .head() in pandas\n",
    "tips.show(5)"
   ]
  },
  {
   "cell_type": "code",
   "execution_count": 4,
   "id": "d0d90bee",
   "metadata": {},
   "outputs": [
    {
     "name": "stdout",
     "output_type": "stream",
     "text": [
      "root\n",
      " |-- total_bill: double (nullable = true)\n",
      " |-- tip: double (nullable = true)\n",
      " |-- sex: string (nullable = true)\n",
      " |-- smoker: string (nullable = true)\n",
      " |-- day: string (nullable = true)\n",
      " |-- time: string (nullable = true)\n",
      " |-- size: long (nullable = true)\n",
      "\n"
     ]
    }
   ],
   "source": [
    "#the schema of the data can be seen using the PrintSchema method\n",
    "tips.printSchema()\n",
    "#spark infers the schema from data however some times the inferred datatype may not be correct \n",
    "#or we may need to define our own column names and data types, this can be done using StructType / StructField"
   ]
  },
  {
   "cell_type": "code",
   "execution_count": 5,
   "id": "7c4b3b6c",
   "metadata": {},
   "outputs": [
    {
     "data": {
      "text/plain": [
       "[('total_bill', 'double'),\n",
       " ('tip', 'double'),\n",
       " ('sex', 'string'),\n",
       " ('smoker', 'string'),\n",
       " ('day', 'string'),\n",
       " ('time', 'string'),\n",
       " ('size', 'bigint')]"
      ]
     },
     "execution_count": 5,
     "metadata": {},
     "output_type": "execute_result"
    }
   ],
   "source": [
    "#There are various methods used to inspect the data. \n",
    "#They are schema, dtypes, show, head, first, take, describe, columns, count, distinct, printSchema\n",
    "#shows the data types\n",
    "tips.dtypes"
   ]
  },
  {
   "cell_type": "code",
   "execution_count": 6,
   "id": "842f692b",
   "metadata": {},
   "outputs": [
    {
     "name": "stdout",
     "output_type": "stream",
     "text": [
      "+----------+----+------+------+---+------+----+\n",
      "|total_bill| tip|   sex|smoker|day|  time|size|\n",
      "+----------+----+------+------+---+------+----+\n",
      "|     16.99|1.01|Female|    No|Sun|Dinner|   2|\n",
      "|     10.34|1.66|  Male|    No|Sun|Dinner|   3|\n",
      "|     21.01| 3.5|  Male|    No|Sun|Dinner|   3|\n",
      "|     23.68|3.31|  Male|    No|Sun|Dinner|   2|\n",
      "|     24.59|3.61|Female|    No|Sun|Dinner|   4|\n",
      "|     25.29|4.71|  Male|    No|Sun|Dinner|   4|\n",
      "|      8.77| 2.0|  Male|    No|Sun|Dinner|   2|\n",
      "|     26.88|3.12|  Male|    No|Sun|Dinner|   4|\n",
      "|     15.04|1.96|  Male|    No|Sun|Dinner|   2|\n",
      "|     14.78|3.23|  Male|    No|Sun|Dinner|   2|\n",
      "|     10.27|1.71|  Male|    No|Sun|Dinner|   2|\n",
      "|     35.26| 5.0|Female|    No|Sun|Dinner|   4|\n",
      "|     15.42|1.57|  Male|    No|Sun|Dinner|   2|\n",
      "|     18.43| 3.0|  Male|    No|Sun|Dinner|   4|\n",
      "|     14.83|3.02|Female|    No|Sun|Dinner|   2|\n",
      "|     21.58|3.92|  Male|    No|Sun|Dinner|   2|\n",
      "|     10.33|1.67|Female|    No|Sun|Dinner|   3|\n",
      "|     16.29|3.71|  Male|    No|Sun|Dinner|   3|\n",
      "|     16.97| 3.5|Female|    No|Sun|Dinner|   3|\n",
      "|     20.65|3.35|  Male|    No|Sat|Dinner|   3|\n",
      "+----------+----+------+------+---+------+----+\n",
      "only showing top 20 rows\n",
      "\n"
     ]
    }
   ],
   "source": [
    "#shows the first 20 rows of the full df\n",
    "tips.show()"
   ]
  },
  {
   "cell_type": "code",
   "execution_count": 7,
   "id": "1917d6ce",
   "metadata": {},
   "outputs": [
    {
     "data": {
      "text/plain": [
       "Row(total_bill=16.99, tip=1.01, sex='Female', smoker='No', day='Sun', time='Dinner', size=2)"
      ]
     },
     "execution_count": 7,
     "metadata": {},
     "output_type": "execute_result"
    }
   ],
   "source": [
    "#shows the column names and values for the complete first row of the df\n",
    "tips.head()"
   ]
  },
  {
   "cell_type": "code",
   "execution_count": 14,
   "id": "97842622",
   "metadata": {},
   "outputs": [
    {
     "data": {
      "text/plain": [
       "Row(total_bill=16.99, tip=1.01, sex='Female', smoker='No', day='Sun', time='Dinner', size=2)"
      ]
     },
     "execution_count": 14,
     "metadata": {},
     "output_type": "execute_result"
    }
   ],
   "source": [
    "tips.first()"
   ]
  },
  {
   "cell_type": "code",
   "execution_count": 13,
   "id": "d09723c5",
   "metadata": {},
   "outputs": [
    {
     "data": {
      "text/plain": [
       "[Row(total_bill=16.99, tip=1.01, sex='Female', smoker='No', day='Sun', time='Dinner', size=2),\n",
       " Row(total_bill=10.34, tip=1.66, sex='Male', smoker='No', day='Sun', time='Dinner', size=3)]"
      ]
     },
     "execution_count": 13,
     "metadata": {},
     "output_type": "execute_result"
    }
   ],
   "source": [
    "tips.take(2)"
   ]
  },
  {
   "cell_type": "code",
   "execution_count": 11,
   "id": "5e67bfcc",
   "metadata": {},
   "outputs": [
    {
     "name": "stderr",
     "output_type": "stream",
     "text": [
      "\r",
      "[Stage 4:>                                                        (0 + 16) / 16]\r"
     ]
    },
    {
     "name": "stdout",
     "output_type": "stream",
     "text": [
      "+-------+-----------------+------------------+------+------+----+------+------------------+\n",
      "|summary|       total_bill|               tip|   sex|smoker| day|  time|              size|\n",
      "+-------+-----------------+------------------+------+------+----+------+------------------+\n",
      "|  count|              244|               244|   244|   244| 244|   244|               244|\n",
      "|   mean|19.78594262295082|2.9982786885245902|  null|  null|null|  null| 2.569672131147541|\n",
      "| stddev|8.902411954856856| 1.383638189001182|  null|  null|null|  null|0.9510998047322345|\n",
      "|    min|             3.07|               1.0|Female|    No| Fri|Dinner|                 1|\n",
      "|    max|            50.81|              10.0|  Male|   Yes|Thur| Lunch|                 6|\n",
      "+-------+-----------------+------------------+------+------+----+------+------------------+\n",
      "\n"
     ]
    },
    {
     "name": "stderr",
     "output_type": "stream",
     "text": [
      "\r",
      "                                                                                \r"
     ]
    }
   ],
   "source": [
    "#describe(): It computes the summary statistics of the columns with the numeric data type. .show()is needed to view\n",
    "tips.describe().show()"
   ]
  },
  {
   "cell_type": "code",
   "execution_count": 16,
   "id": "cbb86567",
   "metadata": {},
   "outputs": [
    {
     "data": {
      "text/plain": [
       "['total_bill', 'tip', 'sex', 'smoker', 'day', 'time', 'size']"
      ]
     },
     "execution_count": 16,
     "metadata": {},
     "output_type": "execute_result"
    }
   ],
   "source": [
    "#shows the columns as a list -  no '()'\n",
    "tips.columns"
   ]
  },
  {
   "cell_type": "code",
   "execution_count": 17,
   "id": "df9e654d",
   "metadata": {},
   "outputs": [
    {
     "data": {
      "text/plain": [
       "244"
      ]
     },
     "execution_count": 17,
     "metadata": {},
     "output_type": "execute_result"
    }
   ],
   "source": [
    "#count(): It returns the count of the number of rows in the data.\n",
    "tips.count()"
   ]
  },
  {
   "cell_type": "markdown",
   "id": "5b504604",
   "metadata": {},
   "source": [
    "---"
   ]
  },
  {
   "cell_type": "markdown",
   "id": "b59ae601",
   "metadata": {},
   "source": [
    "#### Column Manipulation"
   ]
  },
  {
   "cell_type": "code",
   "execution_count": 25,
   "id": "adc09c81",
   "metadata": {},
   "outputs": [
    {
     "name": "stdout",
     "output_type": "stream",
     "text": [
      "+----------+----+------+------+---+------+----+-------------------+\n",
      "|total_bill| tip|   sex|smoker|day|  time|size|     tip_percentage|\n",
      "+----------+----+------+------+---+------+----+-------------------+\n",
      "|     16.99|1.01|Female|    No|Sun|Dinner|   2|0.05944673337257211|\n",
      "|     10.34|1.66|  Male|    No|Sun|Dinner|   3|0.16054158607350097|\n",
      "|     21.01| 3.5|  Male|    No|Sun|Dinner|   3|0.16658733936220846|\n",
      "|     23.68|3.31|  Male|    No|Sun|Dinner|   2| 0.1397804054054054|\n",
      "|     24.59|3.61|Female|    No|Sun|Dinner|   4|0.14680764538430255|\n",
      "|     25.29|4.71|  Male|    No|Sun|Dinner|   4|0.18623962040332148|\n",
      "|      8.77| 2.0|  Male|    No|Sun|Dinner|   2|0.22805017103762829|\n",
      "|     26.88|3.12|  Male|    No|Sun|Dinner|   4|0.11607142857142858|\n",
      "|     15.04|1.96|  Male|    No|Sun|Dinner|   2|0.13031914893617022|\n",
      "|     14.78|3.23|  Male|    No|Sun|Dinner|   2| 0.2185385656292287|\n",
      "|     10.27|1.71|  Male|    No|Sun|Dinner|   2| 0.1665043816942551|\n",
      "|     35.26| 5.0|Female|    No|Sun|Dinner|   4|0.14180374361883155|\n",
      "|     15.42|1.57|  Male|    No|Sun|Dinner|   2|0.10181582360570687|\n",
      "|     18.43| 3.0|  Male|    No|Sun|Dinner|   4|0.16277807921866522|\n",
      "|     14.83|3.02|Female|    No|Sun|Dinner|   2|0.20364126770060686|\n",
      "|     21.58|3.92|  Male|    No|Sun|Dinner|   2|0.18164967562557924|\n",
      "|     10.33|1.67|Female|    No|Sun|Dinner|   3| 0.1616650532429816|\n",
      "|     16.29|3.71|  Male|    No|Sun|Dinner|   3|0.22774708410067526|\n",
      "|     16.97| 3.5|Female|    No|Sun|Dinner|   3|0.20624631703005306|\n",
      "|     20.65|3.35|  Male|    No|Sat|Dinner|   3|0.16222760290556903|\n",
      "+----------+----+------+------+---+------+----+-------------------+\n",
      "only showing top 20 rows\n",
      "\n"
     ]
    }
   ],
   "source": [
    "#Use withColumn the method takes two parameters column name and data to add a new column to the existing data\n",
    "tips = tips.withColumn('tip_percentage', tips.tip / tips.total_bill)\n",
    "tips.show()"
   ]
  },
  {
   "cell_type": "code",
   "execution_count": 27,
   "id": "c10c9192",
   "metadata": {},
   "outputs": [
    {
     "name": "stdout",
     "output_type": "stream",
     "text": [
      "+----------+----+------+------+---+------+----+-------------------+\n",
      "|total_bill| tip|   sex|smoker|day|  time|size|    tips_percentage|\n",
      "+----------+----+------+------+---+------+----+-------------------+\n",
      "|     16.99|1.01|Female|    No|Sun|Dinner|   2|0.05944673337257211|\n",
      "|     10.34|1.66|  Male|    No|Sun|Dinner|   3|0.16054158607350097|\n",
      "|     21.01| 3.5|  Male|    No|Sun|Dinner|   3|0.16658733936220846|\n",
      "|     23.68|3.31|  Male|    No|Sun|Dinner|   2| 0.1397804054054054|\n",
      "|     24.59|3.61|Female|    No|Sun|Dinner|   4|0.14680764538430255|\n",
      "|     25.29|4.71|  Male|    No|Sun|Dinner|   4|0.18623962040332148|\n",
      "|      8.77| 2.0|  Male|    No|Sun|Dinner|   2|0.22805017103762829|\n",
      "|     26.88|3.12|  Male|    No|Sun|Dinner|   4|0.11607142857142858|\n",
      "|     15.04|1.96|  Male|    No|Sun|Dinner|   2|0.13031914893617022|\n",
      "|     14.78|3.23|  Male|    No|Sun|Dinner|   2| 0.2185385656292287|\n",
      "|     10.27|1.71|  Male|    No|Sun|Dinner|   2| 0.1665043816942551|\n",
      "|     35.26| 5.0|Female|    No|Sun|Dinner|   4|0.14180374361883155|\n",
      "|     15.42|1.57|  Male|    No|Sun|Dinner|   2|0.10181582360570687|\n",
      "|     18.43| 3.0|  Male|    No|Sun|Dinner|   4|0.16277807921866522|\n",
      "|     14.83|3.02|Female|    No|Sun|Dinner|   2|0.20364126770060686|\n",
      "|     21.58|3.92|  Male|    No|Sun|Dinner|   2|0.18164967562557924|\n",
      "|     10.33|1.67|Female|    No|Sun|Dinner|   3| 0.1616650532429816|\n",
      "|     16.29|3.71|  Male|    No|Sun|Dinner|   3|0.22774708410067526|\n",
      "|     16.97| 3.5|Female|    No|Sun|Dinner|   3|0.20624631703005306|\n",
      "|     20.65|3.35|  Male|    No|Sat|Dinner|   3|0.16222760290556903|\n",
      "+----------+----+------+------+---+------+----+-------------------+\n",
      "only showing top 20 rows\n",
      "\n"
     ]
    }
   ],
   "source": [
    "#Use withColumnRenamed which takes to parameters existing column name and new column name to \n",
    "#rename the existing column\n",
    "tips = tips.withColumnRenamed('tip_percentage', 'tips_percentage')\n",
    "tips.show()"
   ]
  },
  {
   "cell_type": "code",
   "execution_count": 28,
   "id": "fae90981",
   "metadata": {},
   "outputs": [
    {
     "name": "stdout",
     "output_type": "stream",
     "text": [
      "+----------+----+------+------+---+------+----+\n",
      "|total_bill| tip|   sex|smoker|day|  time|size|\n",
      "+----------+----+------+------+---+------+----+\n",
      "|     16.99|1.01|Female|    No|Sun|Dinner|   2|\n",
      "|     10.34|1.66|  Male|    No|Sun|Dinner|   3|\n",
      "|     21.01| 3.5|  Male|    No|Sun|Dinner|   3|\n",
      "|     23.68|3.31|  Male|    No|Sun|Dinner|   2|\n",
      "|     24.59|3.61|Female|    No|Sun|Dinner|   4|\n",
      "|     25.29|4.71|  Male|    No|Sun|Dinner|   4|\n",
      "|      8.77| 2.0|  Male|    No|Sun|Dinner|   2|\n",
      "|     26.88|3.12|  Male|    No|Sun|Dinner|   4|\n",
      "|     15.04|1.96|  Male|    No|Sun|Dinner|   2|\n",
      "|     14.78|3.23|  Male|    No|Sun|Dinner|   2|\n",
      "|     10.27|1.71|  Male|    No|Sun|Dinner|   2|\n",
      "|     35.26| 5.0|Female|    No|Sun|Dinner|   4|\n",
      "|     15.42|1.57|  Male|    No|Sun|Dinner|   2|\n",
      "|     18.43| 3.0|  Male|    No|Sun|Dinner|   4|\n",
      "|     14.83|3.02|Female|    No|Sun|Dinner|   2|\n",
      "|     21.58|3.92|  Male|    No|Sun|Dinner|   2|\n",
      "|     10.33|1.67|Female|    No|Sun|Dinner|   3|\n",
      "|     16.29|3.71|  Male|    No|Sun|Dinner|   3|\n",
      "|     16.97| 3.5|Female|    No|Sun|Dinner|   3|\n",
      "|     20.65|3.35|  Male|    No|Sat|Dinner|   3|\n",
      "+----------+----+------+------+---+------+----+\n",
      "only showing top 20 rows\n",
      "\n"
     ]
    }
   ],
   "source": [
    "#Use drop the method which takes the column name and returns the data to drop a column\n",
    "tips = tips.drop('tips_percentage')\n",
    "tips.show()"
   ]
  },
  {
   "cell_type": "markdown",
   "id": "2a4890b1",
   "metadata": {},
   "source": [
    "---"
   ]
  },
  {
   "cell_type": "markdown",
   "id": "d3a853d0",
   "metadata": {},
   "source": [
    "#### Dealing with missing values"
   ]
  },
  {
   "cell_type": "code",
   "execution_count": 29,
   "id": "f1bcd508",
   "metadata": {},
   "outputs": [],
   "source": [
    "#Remove Rows with Missing Values\n",
    "\n",
    "#  data.na.drop()\n",
    "\n",
    "#Replacing Missing Values with Mean\n",
    "\n",
    "#  data.na.fill(data.select(f.mean(data['open'])).collect()[0][0])\n",
    "\n",
    "#Replacing Missing Values with new values\n",
    "\n",
    "#  data.na.replace(old_value, new_vallue)"
   ]
  },
  {
   "cell_type": "markdown",
   "id": "ad2a8ff2",
   "metadata": {},
   "source": [
    "---"
   ]
  },
  {
   "cell_type": "markdown",
   "id": "e7faaecb",
   "metadata": {},
   "source": [
    "#### Querying data"
   ]
  },
  {
   "cell_type": "code",
   "execution_count": 30,
   "id": "c20b5f97",
   "metadata": {},
   "outputs": [
    {
     "name": "stdout",
     "output_type": "stream",
     "text": [
      "+----------+\n",
      "|total_bill|\n",
      "+----------+\n",
      "|     16.99|\n",
      "|     10.34|\n",
      "|     21.01|\n",
      "|     23.68|\n",
      "|     24.59|\n",
      "|     25.29|\n",
      "|      8.77|\n",
      "|     26.88|\n",
      "|     15.04|\n",
      "|     14.78|\n",
      "|     10.27|\n",
      "|     35.26|\n",
      "|     15.42|\n",
      "|     18.43|\n",
      "|     14.83|\n",
      "|     21.58|\n",
      "|     10.33|\n",
      "|     16.29|\n",
      "|     16.97|\n",
      "|     20.65|\n",
      "+----------+\n",
      "only showing top 20 rows\n",
      "\n"
     ]
    }
   ],
   "source": [
    "#common methods - Select, Filter, Between, When, Like, GroupBy, Aggregations\n",
    "#select\n",
    "tips.select('total_bill').show()"
   ]
  },
  {
   "cell_type": "code",
   "execution_count": 32,
   "id": "fa506852",
   "metadata": {},
   "outputs": [
    {
     "name": "stdout",
     "output_type": "stream",
     "text": [
      "+----------+----+----+------+---+------+----+\n",
      "|total_bill| tip| sex|smoker|day|  time|size|\n",
      "+----------+----+----+------+---+------+----+\n",
      "|     10.34|1.66|Male|    No|Sun|Dinner|   3|\n",
      "|     21.01| 3.5|Male|    No|Sun|Dinner|   3|\n",
      "|     23.68|3.31|Male|    No|Sun|Dinner|   2|\n",
      "|     25.29|4.71|Male|    No|Sun|Dinner|   4|\n",
      "|      8.77| 2.0|Male|    No|Sun|Dinner|   2|\n",
      "|     26.88|3.12|Male|    No|Sun|Dinner|   4|\n",
      "|     15.04|1.96|Male|    No|Sun|Dinner|   2|\n",
      "|     14.78|3.23|Male|    No|Sun|Dinner|   2|\n",
      "|     10.27|1.71|Male|    No|Sun|Dinner|   2|\n",
      "|     15.42|1.57|Male|    No|Sun|Dinner|   2|\n",
      "|     18.43| 3.0|Male|    No|Sun|Dinner|   4|\n",
      "|     21.58|3.92|Male|    No|Sun|Dinner|   2|\n",
      "|     16.29|3.71|Male|    No|Sun|Dinner|   3|\n",
      "|     20.65|3.35|Male|    No|Sat|Dinner|   3|\n",
      "|     17.92|4.08|Male|    No|Sat|Dinner|   2|\n",
      "|     39.42|7.58|Male|    No|Sat|Dinner|   4|\n",
      "|     19.82|3.18|Male|    No|Sat|Dinner|   2|\n",
      "|     17.81|2.34|Male|    No|Sat|Dinner|   4|\n",
      "|     13.37| 2.0|Male|    No|Sat|Dinner|   2|\n",
      "|     12.69| 2.0|Male|    No|Sat|Dinner|   2|\n",
      "+----------+----+----+------+---+------+----+\n",
      "only showing top 20 rows\n",
      "\n"
     ]
    }
   ],
   "source": [
    "#filter\n",
    "tips.filter(f.col('sex') == 'Male').show()"
   ]
  },
  {
   "cell_type": "code",
   "execution_count": 34,
   "id": "f4fd0d0e",
   "metadata": {},
   "outputs": [
    {
     "name": "stdout",
     "output_type": "stream",
     "text": [
      "+----------+----+------+------+---+------+----+\n",
      "|total_bill| tip|   sex|smoker|day|  time|size|\n",
      "+----------+----+------+------+---+------+----+\n",
      "|     16.99|1.01|Female|    No|Sun|Dinner|   2|\n",
      "|     10.34|1.66|  Male|    No|Sun|Dinner|   3|\n",
      "|     15.04|1.96|  Male|    No|Sun|Dinner|   2|\n",
      "|     14.78|3.23|  Male|    No|Sun|Dinner|   2|\n",
      "|     10.27|1.71|  Male|    No|Sun|Dinner|   2|\n",
      "|     15.42|1.57|  Male|    No|Sun|Dinner|   2|\n",
      "|     18.43| 3.0|  Male|    No|Sun|Dinner|   4|\n",
      "|     14.83|3.02|Female|    No|Sun|Dinner|   2|\n",
      "|     10.33|1.67|Female|    No|Sun|Dinner|   3|\n",
      "|     16.29|3.71|  Male|    No|Sun|Dinner|   3|\n",
      "|     16.97| 3.5|Female|    No|Sun|Dinner|   3|\n",
      "|     17.92|4.08|  Male|    No|Sat|Dinner|   2|\n",
      "|     15.77|2.23|Female|    No|Sat|Dinner|   2|\n",
      "|     19.82|3.18|  Male|    No|Sat|Dinner|   2|\n",
      "|     17.81|2.34|  Male|    No|Sat|Dinner|   4|\n",
      "|     13.37| 2.0|  Male|    No|Sat|Dinner|   2|\n",
      "|     12.69| 2.0|  Male|    No|Sat|Dinner|   2|\n",
      "|     19.65| 3.0|Female|    No|Sat|Dinner|   2|\n",
      "|     18.35| 2.5|  Male|    No|Sat|Dinner|   4|\n",
      "|     15.06| 3.0|Female|    No|Sat|Dinner|   2|\n",
      "+----------+----+------+------+---+------+----+\n",
      "only showing top 20 rows\n",
      "\n"
     ]
    }
   ],
   "source": [
    "#between\n",
    "tips.filter(tips.total_bill.between(10, 20)).show()"
   ]
  },
  {
   "cell_type": "code",
   "execution_count": 35,
   "id": "58270ca5",
   "metadata": {},
   "outputs": [
    {
     "name": "stdout",
     "output_type": "stream",
     "text": [
      "+----------+----+------------------------------------------+\n",
      "|total_bill| tip|CASE WHEN (smoker = Yes) THEN 1 ELSE 0 END|\n",
      "+----------+----+------------------------------------------+\n",
      "|     16.99|1.01|                                         0|\n",
      "|     10.34|1.66|                                         0|\n",
      "|     21.01| 3.5|                                         0|\n",
      "|     23.68|3.31|                                         0|\n",
      "|     24.59|3.61|                                         0|\n",
      "|     25.29|4.71|                                         0|\n",
      "|      8.77| 2.0|                                         0|\n",
      "|     26.88|3.12|                                         0|\n",
      "|     15.04|1.96|                                         0|\n",
      "|     14.78|3.23|                                         0|\n",
      "|     10.27|1.71|                                         0|\n",
      "|     35.26| 5.0|                                         0|\n",
      "|     15.42|1.57|                                         0|\n",
      "|     18.43| 3.0|                                         0|\n",
      "|     14.83|3.02|                                         0|\n",
      "|     21.58|3.92|                                         0|\n",
      "|     10.33|1.67|                                         0|\n",
      "|     16.29|3.71|                                         0|\n",
      "|     16.97| 3.5|                                         0|\n",
      "|     20.65|3.35|                                         0|\n",
      "+----------+----+------------------------------------------+\n",
      "only showing top 20 rows\n",
      "\n"
     ]
    }
   ],
   "source": [
    "#when\n",
    "tips.select('total_bill', 'tip', f.when(tips.smoker == 'Yes', 1).otherwise(0)).show()"
   ]
  },
  {
   "cell_type": "code",
   "execution_count": 37,
   "id": "61869471",
   "metadata": {},
   "outputs": [
    {
     "name": "stdout",
     "output_type": "stream",
     "text": [
      "+----------+----+---+----------------+\n",
      "|total_bill| tip|day|RLIKE(day, ^[S])|\n",
      "+----------+----+---+----------------+\n",
      "|     16.99|1.01|Sun|            true|\n",
      "|     10.34|1.66|Sun|            true|\n",
      "|     21.01| 3.5|Sun|            true|\n",
      "|     23.68|3.31|Sun|            true|\n",
      "|     24.59|3.61|Sun|            true|\n",
      "|     25.29|4.71|Sun|            true|\n",
      "|      8.77| 2.0|Sun|            true|\n",
      "|     26.88|3.12|Sun|            true|\n",
      "|     15.04|1.96|Sun|            true|\n",
      "|     14.78|3.23|Sun|            true|\n",
      "|     10.27|1.71|Sun|            true|\n",
      "|     35.26| 5.0|Sun|            true|\n",
      "|     15.42|1.57|Sun|            true|\n",
      "|     18.43| 3.0|Sun|            true|\n",
      "|     14.83|3.02|Sun|            true|\n",
      "|     21.58|3.92|Sun|            true|\n",
      "|     10.33|1.67|Sun|            true|\n",
      "|     16.29|3.71|Sun|            true|\n",
      "|     16.97| 3.5|Sun|            true|\n",
      "|     20.65|3.35|Sat|            true|\n",
      "+----------+----+---+----------------+\n",
      "only showing top 20 rows\n",
      "\n"
     ]
    }
   ],
   "source": [
    "#like\n",
    "tips.select('total_bill', 'tip', 'day', tips.day.rlike('^[S]')).show()"
   ]
  },
  {
   "cell_type": "code",
   "execution_count": null,
   "id": "6cc25445",
   "metadata": {},
   "outputs": [],
   "source": [
    "#groupby\n"
   ]
  }
 ],
 "metadata": {
  "kernelspec": {
   "display_name": "Python 3 (ipykernel)",
   "language": "python",
   "name": "python3"
  },
  "language_info": {
   "codemirror_mode": {
    "name": "ipython",
    "version": 3
   },
   "file_extension": ".py",
   "mimetype": "text/x-python",
   "name": "python",
   "nbconvert_exporter": "python",
   "pygments_lexer": "ipython3",
   "version": "3.9.7"
  }
 },
 "nbformat": 4,
 "nbformat_minor": 5
}
