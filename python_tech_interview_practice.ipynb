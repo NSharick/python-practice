{
 "cells": [
  {
   "cell_type": "markdown",
   "id": "e8dd8526",
   "metadata": {},
   "source": [
    "#### Python Tech Interview Practice"
   ]
  },
  {
   "cell_type": "code",
   "execution_count": 1,
   "id": "880c5657",
   "metadata": {},
   "outputs": [],
   "source": [
    "#write a function to check is one string is the reverse of the other\n",
    "\n",
    "def are_reverses(string_1, string_2):\n",
    "    for i in range(len(string_1)):\n",
    "        i_2 = len(string_2)-i-1\n",
    "        if string_1[i] != string_2[i_2]:\n",
    "            return False\n",
    "    return True"
   ]
  },
  {
   "cell_type": "code",
   "execution_count": 2,
   "id": "fa7ca12a",
   "metadata": {},
   "outputs": [
    {
     "data": {
      "text/plain": [
       "True"
      ]
     },
     "execution_count": 2,
     "metadata": {},
     "output_type": "execute_result"
    }
   ],
   "source": [
    "are_reverses('abc', 'cba')"
   ]
  },
  {
   "cell_type": "code",
   "execution_count": 3,
   "id": "f7d1309d",
   "metadata": {},
   "outputs": [
    {
     "data": {
      "text/plain": [
       "False"
      ]
     },
     "execution_count": 3,
     "metadata": {},
     "output_type": "execute_result"
    }
   ],
   "source": [
    "are_reverses('abc', 'aaa')"
   ]
  },
  {
   "cell_type": "code",
   "execution_count": null,
   "id": "6ca9f800",
   "metadata": {},
   "outputs": [],
   "source": [
    "#write a function to check if a word is a palindrome\n",
    "\n",
    "def is_palindrome(string):\n",
    "    for i in range(len(string)):\n",
    "        i_2 = len(string)-i-1\n",
    "        if string[i] != string[i_2]:\n",
    "            return False\n",
    "    return True"
   ]
  },
  {
   "cell_type": "code",
   "execution_count": 6,
   "id": "d3622fdb",
   "metadata": {},
   "outputs": [
    {
     "data": {
      "text/plain": [
       "True"
      ]
     },
     "execution_count": 6,
     "metadata": {},
     "output_type": "execute_result"
    }
   ],
   "source": [
    "is_palindrome('eve')"
   ]
  },
  {
   "cell_type": "code",
   "execution_count": 7,
   "id": "5857cfb4",
   "metadata": {},
   "outputs": [
    {
     "data": {
      "text/plain": [
       "False"
      ]
     },
     "execution_count": 7,
     "metadata": {},
     "output_type": "execute_result"
    }
   ],
   "source": [
    "is_palindrome('abc')"
   ]
  },
  {
   "cell_type": "code",
   "execution_count": 10,
   "id": "7a9dd358",
   "metadata": {},
   "outputs": [],
   "source": [
    "#update the above function to deal with upper case and commas\n",
    "def is_palindrome(string):\n",
    "    string = string.lower()\n",
    "    string = string.replace(',', '')\n",
    "    for i in range(len(string)):\n",
    "        i_2 = len(string)-i-1\n",
    "        if string[i] != string[i_2]:\n",
    "            return False\n",
    "    return True"
   ]
  },
  {
   "cell_type": "code",
   "execution_count": 12,
   "id": "3accb11a",
   "metadata": {},
   "outputs": [
    {
     "data": {
      "text/plain": [
       "True"
      ]
     },
     "execution_count": 12,
     "metadata": {},
     "output_type": "execute_result"
    }
   ],
   "source": [
    "is_palindrome('eve, Eve')"
   ]
  },
  {
   "cell_type": "markdown",
   "id": "7185cc1a",
   "metadata": {},
   "source": [
    "---"
   ]
  },
  {
   "cell_type": "code",
   "execution_count": 25,
   "id": "fcef8792",
   "metadata": {},
   "outputs": [
    {
     "name": "stdout",
     "output_type": "stream",
     "text": [
      "\"hello\" appears 3 time(s)\n",
      "\"howdy\" appears 1 time(s)\n"
     ]
    }
   ],
   "source": [
    "def count_occurrence(words, word_to_count):\n",
    "    count = 0\n",
    "    for word in words:\n",
    "        if word == word_to_count:\n",
    "          # update counter variable\n",
    "            count = count + 1\n",
    "    return count\n",
    "\n",
    "\n",
    "words = ['hello', 'goodbye', 'howdy', 'hello', 'hello', 'hi', 'bye']\n",
    "print(f'\"hello\" appears {count_occurrence(words, \"hello\")} time(s)')\n",
    "print(f'\"howdy\" appears {count_occurrence(words, \"howdy\")} time(s)')"
   ]
  },
  {
   "cell_type": "code",
   "execution_count": 27,
   "id": "1f1e0e75",
   "metadata": {},
   "outputs": [
    {
     "data": {
      "text/plain": [
       "{'hello': 3, 'goodbye': 1, 'howdy': 1, 'hi': 1, 'bye': 1}"
      ]
     },
     "execution_count": 27,
     "metadata": {},
     "output_type": "execute_result"
    }
   ],
   "source": [
    "from collections import Counter\n",
    "word_count = dict(Counter(\" \".join(words).split()))\n",
    "word_count"
   ]
  },
  {
   "cell_type": "code",
   "execution_count": 28,
   "id": "55e1a411",
   "metadata": {},
   "outputs": [
    {
     "data": {
      "text/plain": [
       "{'hello': 3}"
      ]
     },
     "execution_count": 28,
     "metadata": {},
     "output_type": "execute_result"
    }
   ],
   "source": [
    "{k:v for (k,v) in word_count.items() if v > 2}"
   ]
  },
  {
   "cell_type": "code",
   "execution_count": 30,
   "id": "1d9ebba1",
   "metadata": {},
   "outputs": [],
   "source": [
    "she_loves_me = ['she', 'loves', 'you', 'yeah', 'yeah', 'yeah',\n",
    "'she', 'loves', 'you', 'yeah', 'yeah', 'yeah',\n",
    "'she', 'loves', 'you', 'yeah', 'yeah', 'yeah', 'yeah',\n",
    "'you', 'think', 'youve', 'lost', 'your', 'love',\n",
    "'well', 'i', 'saw', 'her', 'yesterday'\n",
    "'its', 'you', 'shes', 'thinkin', 'of'\n",
    "'and', 'she', 'told', 'me', 'what', 'to', 'say',\n",
    "'she', 'says', 'she', 'loves', 'you',\n",
    "'and', 'you', 'know', 'that', 'cant', 'be', 'bad',\n",
    "'yes', 'she', 'loves', 'you',\n",
    "'and', 'you', 'know', 'you', 'should', 'be', 'glad',\n",
    "'she', 'said', 'you', 'hurt', 'her', 'so',\n",
    "'she', 'almost', 'lost', 'her', 'mind',\n",
    "'but', 'now', 'she', 'says', 'she', 'knows',\n",
    "'youre', 'not', 'the', 'hurtin', 'kind',\n",
    "'she', 'says', 'she', 'loves', 'you',\n",
    "'and', 'you', 'know', 'that', 'cant', 'be', 'bad',\n",
    "'yes', 'she', 'loves', 'you',\n",
    "'and', 'you', 'know', 'you', 'should', 'be', 'glad', 'ooh',\n",
    "'she', 'loves', 'you', 'yeah', 'yeah', 'yeah',\n",
    "'she', 'loves', 'you', 'yeah', 'yeah', 'yeah',\n",
    "'with', 'a', 'love', 'like', 'that',\n",
    "'you', 'know', 'you', 'should', 'be', 'glad',\n",
    "'you', 'know', 'its', 'up', 'to', 'you',\n",
    "'i', 'think', 'its', 'only', 'fair',\n",
    "'pride', 'can', 'hurt', 'you', 'too',\n",
    "'apologize', 'to', 'her',\n",
    "'because', 'she', 'loves', 'you',\n",
    "'and', 'you', 'know', 'that', 'cant', 'be', 'bad',\n",
    "'yes', 'she', 'loves', 'you',\n",
    "'and', 'you', 'know', 'you', 'should', 'be', 'glad', 'ooh',\n",
    "'she', 'loves', 'you', 'yeah', 'yeah', 'yeah',\n",
    "'she', 'loves', 'you', 'yeah', 'yeah', 'yeah',\n",
    "'with', 'a', 'love', 'like', 'that',\n",
    "'you', 'know', 'you', 'should', 'be', 'glad',\n",
    "'with', 'a', 'love', 'like', 'that',\n",
    "'you', 'know', 'you', 'should', 'be', 'glad',\n",
    "'with', 'a', 'love', 'like', 'that',\n",
    "'you', 'know', 'you', 'should', 'be', 'glad',\n",
    "'yeah', 'yeah', 'yeah'\n",
    "'yeah', 'yeah', 'yeah', 'yeah']"
   ]
  },
  {
   "cell_type": "code",
   "execution_count": 32,
   "id": "b703cf38",
   "metadata": {},
   "outputs": [
    {
     "data": {
      "text/plain": [
       "{'she': 20,\n",
       " 'loves': 13,\n",
       " 'you': 36,\n",
       " 'yeah': 27,\n",
       " 'think': 2,\n",
       " 'youve': 1,\n",
       " 'lost': 2,\n",
       " 'your': 1,\n",
       " 'love': 5,\n",
       " 'well': 1,\n",
       " 'i': 2,\n",
       " 'saw': 1,\n",
       " 'her': 4,\n",
       " 'yesterdayits': 1,\n",
       " 'shes': 1,\n",
       " 'thinkin': 1,\n",
       " 'ofand': 1,\n",
       " 'told': 1,\n",
       " 'me': 1,\n",
       " 'what': 1,\n",
       " 'to': 3,\n",
       " 'say': 1,\n",
       " 'says': 3,\n",
       " 'and': 6,\n",
       " 'know': 11,\n",
       " 'that': 7,\n",
       " 'cant': 3,\n",
       " 'be': 10,\n",
       " 'bad': 3,\n",
       " 'yes': 3,\n",
       " 'should': 7,\n",
       " 'glad': 7,\n",
       " 'said': 1,\n",
       " 'hurt': 2,\n",
       " 'so': 1,\n",
       " 'almost': 1,\n",
       " 'mind': 1,\n",
       " 'but': 1,\n",
       " 'now': 1,\n",
       " 'knows': 1,\n",
       " 'youre': 1,\n",
       " 'not': 1,\n",
       " 'the': 1,\n",
       " 'hurtin': 1,\n",
       " 'kind': 1,\n",
       " 'ooh': 2,\n",
       " 'with': 4,\n",
       " 'a': 4,\n",
       " 'like': 4,\n",
       " 'its': 2,\n",
       " 'up': 1,\n",
       " 'only': 1,\n",
       " 'fair': 1,\n",
       " 'pride': 1,\n",
       " 'can': 1,\n",
       " 'too': 1,\n",
       " 'apologize': 1,\n",
       " 'because': 1,\n",
       " 'yeahyeah': 1}"
      ]
     },
     "execution_count": 32,
     "metadata": {},
     "output_type": "execute_result"
    }
   ],
   "source": [
    "from collections import Counter\n",
    "word_count = dict(Counter(\" \".join(she_loves_me).split()))\n",
    "word_count"
   ]
  },
  {
   "cell_type": "code",
   "execution_count": 34,
   "id": "fdd53f90",
   "metadata": {},
   "outputs": [
    {
     "data": {
      "text/plain": [
       "{'she': 20,\n",
       " 'loves': 13,\n",
       " 'you': 36,\n",
       " 'yeah': 27,\n",
       " 'and': 6,\n",
       " 'know': 11,\n",
       " 'that': 7,\n",
       " 'be': 10,\n",
       " 'should': 7,\n",
       " 'glad': 7}"
      ]
     },
     "execution_count": 34,
     "metadata": {},
     "output_type": "execute_result"
    }
   ],
   "source": [
    "{k:v for (k,v) in word_count.items() if v > 5}"
   ]
  },
  {
   "cell_type": "code",
   "execution_count": null,
   "id": "cb9bd100",
   "metadata": {},
   "outputs": [],
   "source": []
  }
 ],
 "metadata": {
  "kernelspec": {
   "display_name": "Python 3 (ipykernel)",
   "language": "python",
   "name": "python3"
  },
  "language_info": {
   "codemirror_mode": {
    "name": "ipython",
    "version": 3
   },
   "file_extension": ".py",
   "mimetype": "text/x-python",
   "name": "python",
   "nbconvert_exporter": "python",
   "pygments_lexer": "ipython3",
   "version": "3.9.7"
  }
 },
 "nbformat": 4,
 "nbformat_minor": 5
}
