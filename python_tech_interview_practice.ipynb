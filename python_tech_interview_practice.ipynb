{
 "cells": [
  {
   "cell_type": "markdown",
   "id": "6278e017",
   "metadata": {},
   "source": [
    "#### Python Tech Interview Practice"
   ]
  },
  {
   "cell_type": "markdown",
   "id": "e40a9b85",
   "metadata": {},
   "source": [
    "Standard data types in python:\n",
    "- numbers\n",
    "\n",
    "- strings\n",
    "\n",
    "- lists\n",
    "\n",
    "- Dictionaries\n",
    "\n",
    "- tuples\n",
    "\n",
    "Difference between lists and tuples:\n",
    "- both are a sequence of values seperated by commas\n",
    "\n",
    "- lists use [ ] tuples use ( )\n",
    "\n",
    "- list values can be changed, tuple values can not be changed"
   ]
  },
  {
   "cell_type": "code",
   "execution_count": 24,
   "id": "607068f6",
   "metadata": {},
   "outputs": [],
   "source": [
    "#write a function to check is one string is the reverse of the other\n",
    "\n",
    "def are_reverses(string_1, string_2):\n",
    "    for i in range(len(string_1)):\n",
    "        i_2 = len(string_2)-i-1\n",
    "        if string_1[i] != string_2[i_2]:\n",
    "            return False\n",
    "    return True"
   ]
  },
  {
   "cell_type": "code",
   "execution_count": 25,
   "id": "eda0fbbc",
   "metadata": {},
   "outputs": [
    {
     "data": {
      "text/plain": [
       "True"
      ]
     },
     "execution_count": 25,
     "metadata": {},
     "output_type": "execute_result"
    }
   ],
   "source": [
    "are_reverses('abc', 'cba')"
   ]
  },
  {
   "cell_type": "code",
   "execution_count": 26,
   "id": "17418bd2",
   "metadata": {},
   "outputs": [
    {
     "data": {
      "text/plain": [
       "False"
      ]
     },
     "execution_count": 26,
     "metadata": {},
     "output_type": "execute_result"
    }
   ],
   "source": [
    "are_reverses('abc', 'aaa')"
   ]
  },
  {
   "cell_type": "code",
   "execution_count": 27,
   "id": "b81c1e68",
   "metadata": {},
   "outputs": [],
   "source": [
    "#write a function to check if a word is a palindrome\n",
    "\n",
    "def is_palindrome(string):\n",
    "    for i in range(len(string)):\n",
    "        i_2 = len(string)-i-1\n",
    "        if string[i] != string[i_2]:\n",
    "            return False\n",
    "    return True"
   ]
  },
  {
   "cell_type": "code",
   "execution_count": 28,
   "id": "7d2761bc",
   "metadata": {},
   "outputs": [
    {
     "data": {
      "text/plain": [
       "True"
      ]
     },
     "execution_count": 28,
     "metadata": {},
     "output_type": "execute_result"
    }
   ],
   "source": [
    "is_palindrome('eve')"
   ]
  },
  {
   "cell_type": "code",
   "execution_count": 29,
   "id": "65ac7a18",
   "metadata": {},
   "outputs": [
    {
     "data": {
      "text/plain": [
       "False"
      ]
     },
     "execution_count": 29,
     "metadata": {},
     "output_type": "execute_result"
    }
   ],
   "source": [
    "is_palindrome('abc')"
   ]
  },
  {
   "cell_type": "code",
   "execution_count": 30,
   "id": "d3353c6b",
   "metadata": {},
   "outputs": [
    {
     "data": {
      "text/plain": [
       "False"
      ]
     },
     "execution_count": 30,
     "metadata": {},
     "output_type": "execute_result"
    }
   ],
   "source": [
    "is_palindrome('eve, Eve')"
   ]
  },
  {
   "cell_type": "code",
   "execution_count": 31,
   "id": "829553f1",
   "metadata": {},
   "outputs": [
    {
     "data": {
      "text/plain": [
       "False"
      ]
     },
     "execution_count": 31,
     "metadata": {},
     "output_type": "execute_result"
    }
   ],
   "source": [
    "is_palindrome('Step on no pets')"
   ]
  },
  {
   "cell_type": "code",
   "execution_count": null,
   "id": "80b006bf",
   "metadata": {},
   "outputs": [],
   "source": [
    "\n",
    "\n",
    "\n",
    "\n",
    "\n",
    "\n",
    "\n",
    "\n",
    "\n",
    "\n",
    "\n",
    "\n",
    "\n",
    "\n",
    "\n",
    "\n",
    "\n",
    "\n",
    "\n",
    "\n",
    "\n"
   ]
  },
  {
   "cell_type": "code",
   "execution_count": 32,
   "id": "ac68a84a",
   "metadata": {},
   "outputs": [],
   "source": [
    "#update the above function to deal with upper case and commas\n",
    "def is_palindrome(string):\n",
    "    string = string.lower()\n",
    "    string = string.replace(',', '')\n",
    "    for i in range(len(string)):\n",
    "        i_2 = len(string)-i-1\n",
    "        if string[i] != string[i_2]:\n",
    "            return False\n",
    "    return True"
   ]
  },
  {
   "cell_type": "code",
   "execution_count": 33,
   "id": "482d2a80",
   "metadata": {},
   "outputs": [
    {
     "data": {
      "text/plain": [
       "True"
      ]
     },
     "execution_count": 33,
     "metadata": {},
     "output_type": "execute_result"
    }
   ],
   "source": [
    "is_palindrome('eve, Eve')"
   ]
  },
  {
   "cell_type": "code",
   "execution_count": 34,
   "id": "e298d4ba",
   "metadata": {},
   "outputs": [
    {
     "data": {
      "text/plain": [
       "True"
      ]
     },
     "execution_count": 34,
     "metadata": {},
     "output_type": "execute_result"
    }
   ],
   "source": [
    "is_palindrome('Step on no pets')"
   ]
  },
  {
   "cell_type": "markdown",
   "id": "1b521147",
   "metadata": {},
   "source": [
    "---"
   ]
  },
  {
   "cell_type": "code",
   "execution_count": 35,
   "id": "75b42157",
   "metadata": {},
   "outputs": [
    {
     "name": "stdout",
     "output_type": "stream",
     "text": [
      "\"hello\" appears 3 time(s)\n",
      "\"howdy\" appears 1 time(s)\n"
     ]
    }
   ],
   "source": [
    "#returning word counts from a list of strings\n",
    "def count_occurrence(words, word_to_count):\n",
    "    count = 0\n",
    "    for word in words:\n",
    "        if word == word_to_count:\n",
    "          # update counter variable\n",
    "            count = count + 1\n",
    "    return count\n",
    "\n",
    "\n",
    "words = ['hello', 'goodbye', 'howdy', 'hello', 'hello', 'hi', 'bye']\n",
    "print(f'\"hello\" appears {count_occurrence(words, \"hello\")} time(s)')\n",
    "print(f'\"howdy\" appears {count_occurrence(words, \"howdy\")} time(s)')"
   ]
  },
  {
   "cell_type": "code",
   "execution_count": 36,
   "id": "b1ddc176",
   "metadata": {},
   "outputs": [
    {
     "data": {
      "text/plain": [
       "{'hello': 3, 'goodbye': 1, 'howdy': 1, 'hi': 1, 'bye': 1}"
      ]
     },
     "execution_count": 36,
     "metadata": {},
     "output_type": "execute_result"
    }
   ],
   "source": [
    "#returning word counts from a list of strings as a dictionary \n",
    "from collections import Counter\n",
    "word_count = dict(Counter(\" \".join(words).split()))\n",
    "word_count"
   ]
  },
  {
   "cell_type": "code",
   "execution_count": 37,
   "id": "0a528ebc",
   "metadata": {},
   "outputs": [
    {
     "data": {
      "text/plain": [
       "{'hello': 3}"
      ]
     },
     "execution_count": 37,
     "metadata": {},
     "output_type": "execute_result"
    }
   ],
   "source": [
    "{k:v for (k,v) in word_count.items() if v > 2}"
   ]
  },
  {
   "cell_type": "markdown",
   "id": "21e3fc0d",
   "metadata": {},
   "source": [
    "---"
   ]
  },
  {
   "cell_type": "code",
   "execution_count": 38,
   "id": "14a4f29a",
   "metadata": {},
   "outputs": [],
   "source": [
    "#lyrics to the beatles song she loves me as a list of stings\n",
    "she_loves_me = ['she', 'loves', 'you', 'yeah', 'yeah', 'yeah',\n",
    "'she', 'loves', 'you', 'yeah', 'yeah', 'yeah',\n",
    "'she', 'loves', 'you', 'yeah', 'yeah', 'yeah', 'yeah',\n",
    "'you', 'think', 'youve', 'lost', 'your', 'love',\n",
    "'well', 'i', 'saw', 'her', 'yesterday',\n",
    "'its', 'you', 'shes', 'thinkin', 'of',\n",
    "'and', 'she', 'told', 'me', 'what', 'to', 'say',\n",
    "'she', 'says', 'she', 'loves', 'you',\n",
    "'and', 'you', 'know', 'that', 'cant', 'be', 'bad',\n",
    "'yes', 'she', 'loves', 'you',\n",
    "'and', 'you', 'know', 'you', 'should', 'be', 'glad',\n",
    "'she', 'said', 'you', 'hurt', 'her', 'so',\n",
    "'she', 'almost', 'lost', 'her', 'mind',\n",
    "'but', 'now', 'she', 'says', 'she', 'knows',\n",
    "'youre', 'not', 'the', 'hurtin', 'kind',\n",
    "'she', 'says', 'she', 'loves', 'you',\n",
    "'and', 'you', 'know', 'that', 'cant', 'be', 'bad',\n",
    "'yes', 'she', 'loves', 'you',\n",
    "'and', 'you', 'know', 'you', 'should', 'be', 'glad', 'ooh',\n",
    "'she', 'loves', 'you', 'yeah', 'yeah', 'yeah',\n",
    "'she', 'loves', 'you', 'yeah', 'yeah', 'yeah',\n",
    "'with', 'a', 'love', 'like', 'that',\n",
    "'you', 'know', 'you', 'should', 'be', 'glad',\n",
    "'you', 'know', 'its', 'up', 'to', 'you',\n",
    "'i', 'think', 'its', 'only', 'fair',\n",
    "'pride', 'can', 'hurt', 'you', 'too',\n",
    "'apologize', 'to', 'her',\n",
    "'because', 'she', 'loves', 'you',\n",
    "'and', 'you', 'know', 'that', 'cant', 'be', 'bad',\n",
    "'yes', 'she', 'loves', 'you',\n",
    "'and', 'you', 'know', 'you', 'should', 'be', 'glad', 'ooh',\n",
    "'she', 'loves', 'you', 'yeah', 'yeah', 'yeah',\n",
    "'she', 'loves', 'you', 'yeah', 'yeah', 'yeah',\n",
    "'with', 'a', 'love', 'like', 'that',\n",
    "'you', 'know', 'you', 'should', 'be', 'glad',\n",
    "'with', 'a', 'love', 'like', 'that',\n",
    "'you', 'know', 'you', 'should', 'be', 'glad',\n",
    "'with', 'a', 'love', 'like', 'that',\n",
    "'you', 'know', 'you', 'should', 'be', 'glad',\n",
    "'yeah', 'yeah', 'yeah',\n",
    "'yeah', 'yeah', 'yeah', 'yeah']"
   ]
  },
  {
   "cell_type": "code",
   "execution_count": 39,
   "id": "bc4b1fa0",
   "metadata": {},
   "outputs": [
    {
     "data": {
      "text/plain": [
       "{'she': 20,\n",
       " 'loves': 13,\n",
       " 'you': 36,\n",
       " 'yeah': 29,\n",
       " 'think': 2,\n",
       " 'youve': 1,\n",
       " 'lost': 2,\n",
       " 'your': 1,\n",
       " 'love': 5,\n",
       " 'well': 1,\n",
       " 'i': 2,\n",
       " 'saw': 1,\n",
       " 'her': 4,\n",
       " 'yesterday': 1,\n",
       " 'its': 3,\n",
       " 'shes': 1,\n",
       " 'thinkin': 1,\n",
       " 'of': 1,\n",
       " 'and': 7,\n",
       " 'told': 1,\n",
       " 'me': 1,\n",
       " 'what': 1,\n",
       " 'to': 3,\n",
       " 'say': 1,\n",
       " 'says': 3,\n",
       " 'know': 11,\n",
       " 'that': 7,\n",
       " 'cant': 3,\n",
       " 'be': 10,\n",
       " 'bad': 3,\n",
       " 'yes': 3,\n",
       " 'should': 7,\n",
       " 'glad': 7,\n",
       " 'said': 1,\n",
       " 'hurt': 2,\n",
       " 'so': 1,\n",
       " 'almost': 1,\n",
       " 'mind': 1,\n",
       " 'but': 1,\n",
       " 'now': 1,\n",
       " 'knows': 1,\n",
       " 'youre': 1,\n",
       " 'not': 1,\n",
       " 'the': 1,\n",
       " 'hurtin': 1,\n",
       " 'kind': 1,\n",
       " 'ooh': 2,\n",
       " 'with': 4,\n",
       " 'a': 4,\n",
       " 'like': 4,\n",
       " 'up': 1,\n",
       " 'only': 1,\n",
       " 'fair': 1,\n",
       " 'pride': 1,\n",
       " 'can': 1,\n",
       " 'too': 1,\n",
       " 'apologize': 1,\n",
       " 'because': 1}"
      ]
     },
     "execution_count": 39,
     "metadata": {},
     "output_type": "execute_result"
    }
   ],
   "source": [
    "#word counts as a dictionary from above song using the Counter function from the collections library\n",
    "from collections import Counter\n",
    "word_count = dict(Counter(\" \".join(she_loves_me).split()))\n",
    "word_count"
   ]
  },
  {
   "cell_type": "code",
   "execution_count": 40,
   "id": "22013fff",
   "metadata": {},
   "outputs": [
    {
     "data": {
      "text/plain": [
       "{'she': 20,\n",
       " 'loves': 13,\n",
       " 'you': 36,\n",
       " 'yeah': 29,\n",
       " 'and': 7,\n",
       " 'know': 11,\n",
       " 'that': 7,\n",
       " 'be': 10,\n",
       " 'should': 7,\n",
       " 'glad': 7}"
      ]
     },
     "execution_count": 40,
     "metadata": {},
     "output_type": "execute_result"
    }
   ],
   "source": [
    "#word count for words occurring more than five times using a dictionary comprehension\n",
    "{k:v for (k,v) in word_count.items() if v > 5}"
   ]
  },
  {
   "cell_type": "code",
   "execution_count": 41,
   "id": "1cb164ca",
   "metadata": {},
   "outputs": [],
   "source": [
    "#word count for all words in the song with a loop as a dictionary\n",
    "def song_word_count(song):\n",
    "    freq = {}\n",
    "    for word in song:\n",
    "        if (word in freq):\n",
    "            freq[word] += 1\n",
    "        else:\n",
    "            freq[word] = 1\n",
    "    return freq"
   ]
  },
  {
   "cell_type": "code",
   "execution_count": 42,
   "id": "5d45ffeb",
   "metadata": {},
   "outputs": [
    {
     "data": {
      "text/plain": [
       "{'she': 20,\n",
       " 'loves': 13,\n",
       " 'you': 36,\n",
       " 'yeah': 29,\n",
       " 'think': 2,\n",
       " 'youve': 1,\n",
       " 'lost': 2,\n",
       " 'your': 1,\n",
       " 'love': 5,\n",
       " 'well': 1,\n",
       " 'i': 2,\n",
       " 'saw': 1,\n",
       " 'her': 4,\n",
       " 'yesterday': 1,\n",
       " 'its': 3,\n",
       " 'shes': 1,\n",
       " 'thinkin': 1,\n",
       " 'of': 1,\n",
       " 'and': 7,\n",
       " 'told': 1,\n",
       " 'me': 1,\n",
       " 'what': 1,\n",
       " 'to': 3,\n",
       " 'say': 1,\n",
       " 'says': 3,\n",
       " 'know': 11,\n",
       " 'that': 7,\n",
       " 'cant': 3,\n",
       " 'be': 10,\n",
       " 'bad': 3,\n",
       " 'yes': 3,\n",
       " 'should': 7,\n",
       " 'glad': 7,\n",
       " 'said': 1,\n",
       " 'hurt': 2,\n",
       " 'so': 1,\n",
       " 'almost': 1,\n",
       " 'mind': 1,\n",
       " 'but': 1,\n",
       " 'now': 1,\n",
       " 'knows': 1,\n",
       " 'youre': 1,\n",
       " 'not': 1,\n",
       " 'the': 1,\n",
       " 'hurtin': 1,\n",
       " 'kind': 1,\n",
       " 'ooh': 2,\n",
       " 'with': 4,\n",
       " 'a': 4,\n",
       " 'like': 4,\n",
       " 'up': 1,\n",
       " 'only': 1,\n",
       " 'fair': 1,\n",
       " 'pride': 1,\n",
       " 'can': 1,\n",
       " 'too': 1,\n",
       " 'apologize': 1,\n",
       " 'because': 1}"
      ]
     },
     "execution_count": 42,
     "metadata": {},
     "output_type": "execute_result"
    }
   ],
   "source": [
    "song_word_count(she_loves_me)"
   ]
  },
  {
   "cell_type": "code",
   "execution_count": 43,
   "id": "01660ca1",
   "metadata": {},
   "outputs": [],
   "source": [
    "#word count for words occurring five or more times as a dictionary with a loop and a dict comprehension\n",
    "def song_word_count(song):\n",
    "    freq = {}\n",
    "    for word in song:\n",
    "        if (word in freq):\n",
    "            freq[word] += 1\n",
    "        else:\n",
    "            freq[word] = 1\n",
    "    return {k:v for (k,v) in freq.items() if v >= 5}"
   ]
  },
  {
   "cell_type": "code",
   "execution_count": 44,
   "id": "57e20292",
   "metadata": {},
   "outputs": [
    {
     "data": {
      "text/plain": [
       "{'she': 20,\n",
       " 'loves': 13,\n",
       " 'you': 36,\n",
       " 'yeah': 29,\n",
       " 'love': 5,\n",
       " 'and': 7,\n",
       " 'know': 11,\n",
       " 'that': 7,\n",
       " 'be': 10,\n",
       " 'should': 7,\n",
       " 'glad': 7}"
      ]
     },
     "execution_count": 44,
     "metadata": {},
     "output_type": "execute_result"
    }
   ],
   "source": [
    "song_word_count(she_loves_me)"
   ]
  },
  {
   "cell_type": "markdown",
   "id": "c7ded1c5",
   "metadata": {},
   "source": [
    "---"
   ]
  },
  {
   "cell_type": "code",
   "execution_count": 1,
   "id": "3a05a13d",
   "metadata": {},
   "outputs": [
    {
     "name": "stdout",
     "output_type": "stream",
     "text": [
      "1\n",
      "2\n",
      "Fizz\n",
      "4\n",
      "Buzz\n",
      "Fizz\n",
      "7\n",
      "8\n",
      "Fizz\n",
      "Buzz\n",
      "11\n",
      "Fizz\n",
      "13\n",
      "14\n",
      "FizzBuzz\n",
      "16\n",
      "17\n",
      "Fizz\n",
      "19\n",
      "Buzz\n",
      "Fizz\n",
      "22\n",
      "23\n",
      "Fizz\n",
      "Buzz\n",
      "26\n",
      "Fizz\n",
      "28\n",
      "29\n",
      "FizzBuzz\n",
      "31\n",
      "32\n",
      "Fizz\n",
      "34\n",
      "Buzz\n",
      "Fizz\n",
      "37\n",
      "38\n",
      "Fizz\n",
      "Buzz\n",
      "41\n",
      "Fizz\n",
      "43\n",
      "44\n",
      "FizzBuzz\n",
      "46\n",
      "47\n",
      "Fizz\n",
      "49\n",
      "Buzz\n",
      "Fizz\n",
      "52\n",
      "53\n",
      "Fizz\n",
      "Buzz\n",
      "56\n",
      "Fizz\n",
      "58\n",
      "59\n",
      "FizzBuzz\n",
      "61\n",
      "62\n",
      "Fizz\n",
      "64\n",
      "Buzz\n",
      "Fizz\n",
      "67\n",
      "68\n",
      "Fizz\n",
      "Buzz\n",
      "71\n",
      "Fizz\n",
      "73\n",
      "74\n",
      "FizzBuzz\n",
      "76\n",
      "77\n",
      "Fizz\n",
      "79\n",
      "Buzz\n",
      "Fizz\n",
      "82\n",
      "83\n",
      "Fizz\n",
      "Buzz\n",
      "86\n",
      "Fizz\n",
      "88\n",
      "89\n",
      "FizzBuzz\n",
      "91\n",
      "92\n",
      "Fizz\n",
      "94\n",
      "Buzz\n",
      "Fizz\n",
      "97\n",
      "98\n",
      "Fizz\n",
      "Buzz\n"
     ]
    }
   ],
   "source": [
    "#fizzbuzz problem\n",
    "\n",
    "for i in range(1, 101):\n",
    "    if i % 3 == 0 and i % 5 == 0:\n",
    "        print ('FizzBuzz')\n",
    "    elif i % 3 == 0:\n",
    "        print ('Fizz')\n",
    "    elif i % 5 == 0:\n",
    "        print ('Buzz')\n",
    "    else:\n",
    "        print (str(i))\n"
   ]
  },
  {
   "cell_type": "markdown",
   "id": "653f3a94",
   "metadata": {},
   "source": [
    "---"
   ]
  },
  {
   "cell_type": "code",
   "execution_count": 1,
   "id": "bddd75e3",
   "metadata": {},
   "outputs": [
    {
     "name": "stdout",
     "output_type": "stream",
     "text": [
      "[2, 4, 6, 8, 10]\n"
     ]
    }
   ],
   "source": [
    "#slicing in python\n",
    "#slicing syntax - [start:stop:step]\n",
    "#start = is the starting index from where to slice a list or tuple\n",
    "#stop = is the ending index or where to stop\n",
    "#step = is the number of steps to jump\n",
    "\n",
    "numbers = [1, 2, 3, 4, 5, 6, 7, 8, 9, 10]\n",
    "print(numbers[1::2])"
   ]
  },
  {
   "cell_type": "code",
   "execution_count": 2,
   "id": "9ca94ead",
   "metadata": {},
   "outputs": [
    {
     "name": "stdout",
     "output_type": "stream",
     "text": [
      "[1, 3, 5]\n"
     ]
    }
   ],
   "source": [
    "print(numbers[0:5:2])"
   ]
  },
  {
   "cell_type": "markdown",
   "id": "9c9ce6ff",
   "metadata": {},
   "source": [
    "---"
   ]
  },
  {
   "cell_type": "code",
   "execution_count": 3,
   "id": "a4fe45c2",
   "metadata": {},
   "outputs": [],
   "source": [
    "#reversing a string\n",
    "def reverse(s): \n",
    "  str = \"\" \n",
    "  for i in s: \n",
    "    str = i + str\n",
    "  return str"
   ]
  },
  {
   "cell_type": "code",
   "execution_count": 4,
   "id": "fd905ea4",
   "metadata": {},
   "outputs": [
    {
     "data": {
      "text/plain": [
       "'gnirts'"
      ]
     },
     "execution_count": 4,
     "metadata": {},
     "output_type": "execute_result"
    }
   ],
   "source": [
    "reverse('string')"
   ]
  },
  {
   "cell_type": "code",
   "execution_count": 6,
   "id": "2e5b016f",
   "metadata": {},
   "outputs": [
    {
     "data": {
      "text/plain": [
       "'cba'"
      ]
     },
     "execution_count": 6,
     "metadata": {},
     "output_type": "execute_result"
    }
   ],
   "source": [
    "#reverse a list\n",
    "reverse(['a', 'b', 'c'])"
   ]
  },
  {
   "cell_type": "markdown",
   "id": "27a20ab6",
   "metadata": {},
   "source": [
    "---"
   ]
  },
  {
   "cell_type": "code",
   "execution_count": null,
   "id": "108e30cf",
   "metadata": {},
   "outputs": [],
   "source": []
  }
 ],
 "metadata": {
  "kernelspec": {
   "display_name": "Python 3 (ipykernel)",
   "language": "python",
   "name": "python3"
  },
  "language_info": {
   "codemirror_mode": {
    "name": "ipython",
    "version": 3
   },
   "file_extension": ".py",
   "mimetype": "text/x-python",
   "name": "python",
   "nbconvert_exporter": "python",
   "pygments_lexer": "ipython3",
   "version": "3.9.7"
  }
 },
 "nbformat": 4,
 "nbformat_minor": 5
}
