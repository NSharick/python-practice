{
 "cells": [
  {
   "cell_type": "markdown",
   "id": "6278e017",
   "metadata": {},
   "source": [
    "#### Python Tech Interview Practice"
   ]
  },
  {
   "cell_type": "code",
   "execution_count": 1,
   "id": "607068f6",
   "metadata": {},
   "outputs": [],
   "source": [
    "#write a function to check is one string is the reverse of the other\n",
    "\n",
    "def are_reverses(string_1, string_2):\n",
    "    for i in range(len(string_1)):\n",
    "        i_2 = len(string_2)-i-1\n",
    "        if string_1[i] != string_2[i_2]:\n",
    "            return False\n",
    "    return True"
   ]
  },
  {
   "cell_type": "code",
   "execution_count": 2,
   "id": "eda0fbbc",
   "metadata": {},
   "outputs": [
    {
     "data": {
      "text/plain": [
       "True"
      ]
     },
     "execution_count": 2,
     "metadata": {},
     "output_type": "execute_result"
    }
   ],
   "source": [
    "are_reverses('abc', 'cba')"
   ]
  },
  {
   "cell_type": "code",
   "execution_count": 3,
   "id": "17418bd2",
   "metadata": {},
   "outputs": [
    {
     "data": {
      "text/plain": [
       "False"
      ]
     },
     "execution_count": 3,
     "metadata": {},
     "output_type": "execute_result"
    }
   ],
   "source": [
    "are_reverses('abc', 'aaa')"
   ]
  },
  {
   "cell_type": "code",
   "execution_count": null,
   "id": "b81c1e68",
   "metadata": {},
   "outputs": [],
   "source": [
    "#write a function to check if a word is a palindrome\n",
    "\n",
    "def is_palindrome(string):\n",
    "    for i in range(len(string)):\n",
    "        i_2 = len(string)-i-1\n",
    "        if string[i] != string[i_2]:\n",
    "            return False\n",
    "    return True"
   ]
  },
  {
   "cell_type": "code",
   "execution_count": 6,
   "id": "7d2761bc",
   "metadata": {},
   "outputs": [
    {
     "data": {
      "text/plain": [
       "True"
      ]
     },
     "execution_count": 6,
     "metadata": {},
     "output_type": "execute_result"
    }
   ],
   "source": [
    "is_palindrome('eve')"
   ]
  },
  {
   "cell_type": "code",
   "execution_count": 7,
   "id": "65ac7a18",
   "metadata": {},
   "outputs": [
    {
     "data": {
      "text/plain": [
       "False"
      ]
     },
     "execution_count": 7,
     "metadata": {},
     "output_type": "execute_result"
    }
   ],
   "source": [
    "is_palindrome('abc')"
   ]
  },
  {
   "cell_type": "code",
   "execution_count": 10,
   "id": "ac68a84a",
   "metadata": {},
   "outputs": [],
   "source": [
    "#update the above function to deal with upper case and commas\n",
    "def is_palindrome(string):\n",
    "    string = string.lower()\n",
    "    string = string.replace(',', '')\n",
    "    for i in range(len(string)):\n",
    "        i_2 = len(string)-i-1\n",
    "        if string[i] != string[i_2]:\n",
    "            return False\n",
    "    return True"
   ]
  },
  {
   "cell_type": "code",
   "execution_count": 12,
   "id": "482d2a80",
   "metadata": {},
   "outputs": [
    {
     "data": {
      "text/plain": [
       "True"
      ]
     },
     "execution_count": 12,
     "metadata": {},
     "output_type": "execute_result"
    }
   ],
   "source": [
    "is_palindrome('eve, Eve')"
   ]
  },
  {
   "cell_type": "markdown",
   "id": "1b521147",
   "metadata": {},
   "source": [
    "---"
   ]
  },
  {
   "cell_type": "code",
   "execution_count": 25,
   "id": "75b42157",
   "metadata": {},
   "outputs": [
    {
     "name": "stdout",
     "output_type": "stream",
     "text": [
      "\"hello\" appears 3 time(s)\n",
      "\"howdy\" appears 1 time(s)\n"
     ]
    }
   ],
   "source": [
    "def count_occurrence(words, word_to_count):\n",
    "    count = 0\n",
    "    for word in words:\n",
    "        if word == word_to_count:\n",
    "          # update counter variable\n",
    "            count = count + 1\n",
    "    return count\n",
    "\n",
    "\n",
    "words = ['hello', 'goodbye', 'howdy', 'hello', 'hello', 'hi', 'bye']\n",
    "print(f'\"hello\" appears {count_occurrence(words, \"hello\")} time(s)')\n",
    "print(f'\"howdy\" appears {count_occurrence(words, \"howdy\")} time(s)')"
   ]
  },
  {
   "cell_type": "code",
   "execution_count": 27,
   "id": "b1ddc176",
   "metadata": {},
   "outputs": [
    {
     "data": {
      "text/plain": [
       "{'hello': 3, 'goodbye': 1, 'howdy': 1, 'hi': 1, 'bye': 1}"
      ]
     },
     "execution_count": 27,
     "metadata": {},
     "output_type": "execute_result"
    }
   ],
   "source": [
    "from collections import Counter\n",
    "word_count = dict(Counter(\" \".join(words).split()))\n",
    "word_count"
   ]
  },
  {
   "cell_type": "code",
   "execution_count": 28,
   "id": "0a528ebc",
   "metadata": {},
   "outputs": [
    {
     "data": {
      "text/plain": [
       "{'hello': 3}"
      ]
     },
     "execution_count": 28,
     "metadata": {},
     "output_type": "execute_result"
    }
   ],
   "source": [
    "{k:v for (k,v) in word_count.items() if v > 2}"
   ]
  },
  {
   "cell_type": "code",
   "execution_count": 30,
   "id": "14a4f29a",
   "metadata": {},
   "outputs": [],
   "source": [
    "she_loves_me = ['she', 'loves', 'you', 'yeah', 'yeah', 'yeah',\n",
    "'she', 'loves', 'you', 'yeah', 'yeah', 'yeah',\n",
    "'she', 'loves', 'you', 'yeah', 'yeah', 'yeah', 'yeah',\n",
    "'you', 'think', 'youve', 'lost', 'your', 'love',\n",
    "'well', 'i', 'saw', 'her', 'yesterday'\n",
    "'its', 'you', 'shes', 'thinkin', 'of'\n",
    "'and', 'she', 'told', 'me', 'what', 'to', 'say',\n",
    "'she', 'says', 'she', 'loves', 'you',\n",
    "'and', 'you', 'know', 'that', 'cant', 'be', 'bad',\n",
    "'yes', 'she', 'loves', 'you',\n",
    "'and', 'you', 'know', 'you', 'should', 'be', 'glad',\n",
    "'she', 'said', 'you', 'hurt', 'her', 'so',\n",
    "'she', 'almost', 'lost', 'her', 'mind',\n",
    "'but', 'now', 'she', 'says', 'she', 'knows',\n",
    "'youre', 'not', 'the', 'hurtin', 'kind',\n",
    "'she', 'says', 'she', 'loves', 'you',\n",
    "'and', 'you', 'know', 'that', 'cant', 'be', 'bad',\n",
    "'yes', 'she', 'loves', 'you',\n",
    "'and', 'you', 'know', 'you', 'should', 'be', 'glad', 'ooh',\n",
    "'she', 'loves', 'you', 'yeah', 'yeah', 'yeah',\n",
    "'she', 'loves', 'you', 'yeah', 'yeah', 'yeah',\n",
    "'with', 'a', 'love', 'like', 'that',\n",
    "'you', 'know', 'you', 'should', 'be', 'glad',\n",
    "'you', 'know', 'its', 'up', 'to', 'you',\n",
    "'i', 'think', 'its', 'only', 'fair',\n",
    "'pride', 'can', 'hurt', 'you', 'too',\n",
    "'apologize', 'to', 'her',\n",
    "'because', 'she', 'loves', 'you',\n",
    "'and', 'you', 'know', 'that', 'cant', 'be', 'bad',\n",
    "'yes', 'she', 'loves', 'you',\n",
    "'and', 'you', 'know', 'you', 'should', 'be', 'glad', 'ooh',\n",
    "'she', 'loves', 'you', 'yeah', 'yeah', 'yeah',\n",
    "'she', 'loves', 'you', 'yeah', 'yeah', 'yeah',\n",
    "'with', 'a', 'love', 'like', 'that',\n",
    "'you', 'know', 'you', 'should', 'be', 'glad',\n",
    "'with', 'a', 'love', 'like', 'that',\n",
    "'you', 'know', 'you', 'should', 'be', 'glad',\n",
    "'with', 'a', 'love', 'like', 'that',\n",
    "'you', 'know', 'you', 'should', 'be', 'glad',\n",
    "'yeah', 'yeah', 'yeah'\n",
    "'yeah', 'yeah', 'yeah', 'yeah']"
   ]
  },
  {
   "cell_type": "code",
   "execution_count": 32,
   "id": "bc4b1fa0",
   "metadata": {},
   "outputs": [
    {
     "data": {
      "text/plain": [
       "{'she': 20,\n",
       " 'loves': 13,\n",
       " 'you': 36,\n",
       " 'yeah': 27,\n",
       " 'think': 2,\n",
       " 'youve': 1,\n",
       " 'lost': 2,\n",
       " 'your': 1,\n",
       " 'love': 5,\n",
       " 'well': 1,\n",
       " 'i': 2,\n",
       " 'saw': 1,\n",
       " 'her': 4,\n",
       " 'yesterdayits': 1,\n",
       " 'shes': 1,\n",
       " 'thinkin': 1,\n",
       " 'ofand': 1,\n",
       " 'told': 1,\n",
       " 'me': 1,\n",
       " 'what': 1,\n",
       " 'to': 3,\n",
       " 'say': 1,\n",
       " 'says': 3,\n",
       " 'and': 6,\n",
       " 'know': 11,\n",
       " 'that': 7,\n",
       " 'cant': 3,\n",
       " 'be': 10,\n",
       " 'bad': 3,\n",
       " 'yes': 3,\n",
       " 'should': 7,\n",
       " 'glad': 7,\n",
       " 'said': 1,\n",
       " 'hurt': 2,\n",
       " 'so': 1,\n",
       " 'almost': 1,\n",
       " 'mind': 1,\n",
       " 'but': 1,\n",
       " 'now': 1,\n",
       " 'knows': 1,\n",
       " 'youre': 1,\n",
       " 'not': 1,\n",
       " 'the': 1,\n",
       " 'hurtin': 1,\n",
       " 'kind': 1,\n",
       " 'ooh': 2,\n",
       " 'with': 4,\n",
       " 'a': 4,\n",
       " 'like': 4,\n",
       " 'its': 2,\n",
       " 'up': 1,\n",
       " 'only': 1,\n",
       " 'fair': 1,\n",
       " 'pride': 1,\n",
       " 'can': 1,\n",
       " 'too': 1,\n",
       " 'apologize': 1,\n",
       " 'because': 1,\n",
       " 'yeahyeah': 1}"
      ]
     },
     "execution_count": 32,
     "metadata": {},
     "output_type": "execute_result"
    }
   ],
   "source": [
    "from collections import Counter\n",
    "word_count = dict(Counter(\" \".join(she_loves_me).split()))\n",
    "word_count"
   ]
  },
  {
   "cell_type": "code",
   "execution_count": 34,
   "id": "22013fff",
   "metadata": {},
   "outputs": [
    {
     "data": {
      "text/plain": [
       "{'she': 20,\n",
       " 'loves': 13,\n",
       " 'you': 36,\n",
       " 'yeah': 27,\n",
       " 'and': 6,\n",
       " 'know': 11,\n",
       " 'that': 7,\n",
       " 'be': 10,\n",
       " 'should': 7,\n",
       " 'glad': 7}"
      ]
     },
     "execution_count": 34,
     "metadata": {},
     "output_type": "execute_result"
    }
   ],
   "source": [
    "{k:v for (k,v) in word_count.items() if v > 5}"
   ]
  },
  {
   "cell_type": "code",
   "execution_count": 38,
   "id": "1cb164ca",
   "metadata": {},
   "outputs": [],
   "source": [
    "def song_word_count(song):\n",
    "    freq = {}\n",
    "    for word in song:\n",
    "        if (word in freq):\n",
    "            freq[word] += 1\n",
    "        else:\n",
    "            freq[word] = 1\n",
    "    return freq"
   ]
  },
  {
   "cell_type": "code",
   "execution_count": 39,
   "id": "5d45ffeb",
   "metadata": {},
   "outputs": [
    {
     "data": {
      "text/plain": [
       "{'she': 20,\n",
       " 'loves': 13,\n",
       " 'you': 36,\n",
       " 'yeah': 27,\n",
       " 'think': 2,\n",
       " 'youve': 1,\n",
       " 'lost': 2,\n",
       " 'your': 1,\n",
       " 'love': 5,\n",
       " 'well': 1,\n",
       " 'i': 2,\n",
       " 'saw': 1,\n",
       " 'her': 4,\n",
       " 'yesterdayits': 1,\n",
       " 'shes': 1,\n",
       " 'thinkin': 1,\n",
       " 'ofand': 1,\n",
       " 'told': 1,\n",
       " 'me': 1,\n",
       " 'what': 1,\n",
       " 'to': 3,\n",
       " 'say': 1,\n",
       " 'says': 3,\n",
       " 'and': 6,\n",
       " 'know': 11,\n",
       " 'that': 7,\n",
       " 'cant': 3,\n",
       " 'be': 10,\n",
       " 'bad': 3,\n",
       " 'yes': 3,\n",
       " 'should': 7,\n",
       " 'glad': 7,\n",
       " 'said': 1,\n",
       " 'hurt': 2,\n",
       " 'so': 1,\n",
       " 'almost': 1,\n",
       " 'mind': 1,\n",
       " 'but': 1,\n",
       " 'now': 1,\n",
       " 'knows': 1,\n",
       " 'youre': 1,\n",
       " 'not': 1,\n",
       " 'the': 1,\n",
       " 'hurtin': 1,\n",
       " 'kind': 1,\n",
       " 'ooh': 2,\n",
       " 'with': 4,\n",
       " 'a': 4,\n",
       " 'like': 4,\n",
       " 'its': 2,\n",
       " 'up': 1,\n",
       " 'only': 1,\n",
       " 'fair': 1,\n",
       " 'pride': 1,\n",
       " 'can': 1,\n",
       " 'too': 1,\n",
       " 'apologize': 1,\n",
       " 'because': 1,\n",
       " 'yeahyeah': 1}"
      ]
     },
     "execution_count": 39,
     "metadata": {},
     "output_type": "execute_result"
    }
   ],
   "source": [
    "song_word_count(she_loves_me)"
   ]
  },
  {
   "cell_type": "code",
   "execution_count": 44,
   "id": "01660ca1",
   "metadata": {},
   "outputs": [],
   "source": [
    "def song_word_count(song):\n",
    "    freq = {}\n",
    "    for word in song:\n",
    "        if (word in freq):\n",
    "            freq[word] += 1\n",
    "        else:\n",
    "            freq[word] = 1\n",
    "    return {k:v for (k,v) in freq.items() if v >= 5}"
   ]
  },
  {
   "cell_type": "code",
   "execution_count": 45,
   "id": "57e20292",
   "metadata": {},
   "outputs": [
    {
     "data": {
      "text/plain": [
       "{'she': 20,\n",
       " 'loves': 13,\n",
       " 'you': 36,\n",
       " 'yeah': 27,\n",
       " 'love': 5,\n",
       " 'and': 6,\n",
       " 'know': 11,\n",
       " 'that': 7,\n",
       " 'be': 10,\n",
       " 'should': 7,\n",
       " 'glad': 7}"
      ]
     },
     "execution_count": 45,
     "metadata": {},
     "output_type": "execute_result"
    }
   ],
   "source": [
    "song_word_count(she_loves_me)"
   ]
  },
  {
   "cell_type": "code",
   "execution_count": 43,
   "id": "6899f284",
   "metadata": {},
   "outputs": [
    {
     "data": {
      "text/plain": [
       "{'she': 20,\n",
       " 'loves': 13,\n",
       " 'you': 36,\n",
       " 'yeah': 27,\n",
       " 'love': 5,\n",
       " 'and': 6,\n",
       " 'know': 11,\n",
       " 'that': 7,\n",
       " 'be': 10,\n",
       " 'should': 7,\n",
       " 'glad': 7}"
      ]
     },
     "execution_count": 43,
     "metadata": {},
     "output_type": "execute_result"
    }
   ],
   "source": [
    "from collections import Counter\n",
    "word_count = dict(Counter(\" \".join(she_loves_me).split()))\n",
    "{k:v for (k,v) in word_count.items() if v >= 5}"
   ]
  },
  {
   "cell_type": "code",
   "execution_count": null,
   "id": "b9e9022a",
   "metadata": {},
   "outputs": [],
   "source": []
  }
 ],
 "metadata": {
  "kernelspec": {
   "display_name": "Python 3 (ipykernel)",
   "language": "python",
   "name": "python3"
  },
  "language_info": {
   "codemirror_mode": {
    "name": "ipython",
    "version": 3
   },
   "file_extension": ".py",
   "mimetype": "text/x-python",
   "name": "python",
   "nbconvert_exporter": "python",
   "pygments_lexer": "ipython3",
   "version": "3.9.7"
  }
 },
 "nbformat": 4,
 "nbformat_minor": 5
}
