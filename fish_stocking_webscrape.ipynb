{
 "cells": [
  {
   "cell_type": "code",
   "execution_count": 1,
   "id": "b132d8a6",
   "metadata": {},
   "outputs": [],
   "source": [
    "import pandas as pd"
   ]
  },
  {
   "cell_type": "code",
   "execution_count": 11,
   "id": "62808670",
   "metadata": {},
   "outputs": [],
   "source": [
    "rainbow_trout_2019 = pd.read_html('https://tpwd.texas.gov/fishboat/fish/action/stock_byspecies.php?timeframe=selectyear&species=0027&year=2019&Submit=Go')[0]"
   ]
  },
  {
   "cell_type": "code",
   "execution_count": 12,
   "id": "d31b3027",
   "metadata": {},
   "outputs": [
    {
     "data": {
      "text/html": [
       "<div>\n",
       "<style scoped>\n",
       "    .dataframe tbody tr th:only-of-type {\n",
       "        vertical-align: middle;\n",
       "    }\n",
       "\n",
       "    .dataframe tbody tr th {\n",
       "        vertical-align: top;\n",
       "    }\n",
       "\n",
       "    .dataframe thead th {\n",
       "        text-align: right;\n",
       "    }\n",
       "</style>\n",
       "<table border=\"1\" class=\"dataframe\">\n",
       "  <thead>\n",
       "    <tr style=\"text-align: right;\">\n",
       "      <th></th>\n",
       "      <th>Water Body</th>\n",
       "      <th>Number Stocked</th>\n",
       "      <th>Size</th>\n",
       "    </tr>\n",
       "  </thead>\n",
       "  <tbody>\n",
       "    <tr>\n",
       "      <th>0</th>\n",
       "      <td>Ablon Park Pond (Garland)</td>\n",
       "      <td>2003</td>\n",
       "      <td>Adult</td>\n",
       "    </tr>\n",
       "    <tr>\n",
       "      <th>1</th>\n",
       "      <td>American Legion Park Pond</td>\n",
       "      <td>1816</td>\n",
       "      <td>Adult</td>\n",
       "    </tr>\n",
       "    <tr>\n",
       "      <th>2</th>\n",
       "      <td>Amsler Park</td>\n",
       "      <td>2644</td>\n",
       "      <td>Adult</td>\n",
       "    </tr>\n",
       "    <tr>\n",
       "      <th>3</th>\n",
       "      <td>Ascarate</td>\n",
       "      <td>5872</td>\n",
       "      <td>Adult</td>\n",
       "    </tr>\n",
       "    <tr>\n",
       "      <th>4</th>\n",
       "      <td>Bailey Lake</td>\n",
       "      <td>1017</td>\n",
       "      <td>Adult</td>\n",
       "    </tr>\n",
       "  </tbody>\n",
       "</table>\n",
       "</div>"
      ],
      "text/plain": [
       "                  Water Body  Number Stocked   Size\n",
       "0  Ablon Park Pond (Garland)            2003  Adult\n",
       "1  American Legion Park Pond            1816  Adult\n",
       "2                Amsler Park            2644  Adult\n",
       "3                   Ascarate            5872  Adult\n",
       "4                Bailey Lake            1017  Adult"
      ]
     },
     "execution_count": 12,
     "metadata": {},
     "output_type": "execute_result"
    }
   ],
   "source": [
    "rainbow_trout_2019.head()"
   ]
  },
  {
   "cell_type": "code",
   "execution_count": 13,
   "id": "b21cace1",
   "metadata": {},
   "outputs": [],
   "source": [
    "rainbow_trout_2018 = pd.read_html('https://tpwd.texas.gov/fishboat/fish/action/stock_byspecies.php?timeframe=selectyear&species=0027&year=2018&Submit=Go')[0]"
   ]
  },
  {
   "cell_type": "code",
   "execution_count": 14,
   "id": "8449e9d1",
   "metadata": {},
   "outputs": [
    {
     "data": {
      "text/html": [
       "<div>\n",
       "<style scoped>\n",
       "    .dataframe tbody tr th:only-of-type {\n",
       "        vertical-align: middle;\n",
       "    }\n",
       "\n",
       "    .dataframe tbody tr th {\n",
       "        vertical-align: top;\n",
       "    }\n",
       "\n",
       "    .dataframe thead th {\n",
       "        text-align: right;\n",
       "    }\n",
       "</style>\n",
       "<table border=\"1\" class=\"dataframe\">\n",
       "  <thead>\n",
       "    <tr style=\"text-align: right;\">\n",
       "      <th></th>\n",
       "      <th>Water Body</th>\n",
       "      <th>Number Stocked</th>\n",
       "      <th>Size</th>\n",
       "    </tr>\n",
       "  </thead>\n",
       "  <tbody>\n",
       "    <tr>\n",
       "      <th>0</th>\n",
       "      <td>A. E. Wood Fish Hatchery</td>\n",
       "      <td>426</td>\n",
       "      <td>Adult</td>\n",
       "    </tr>\n",
       "    <tr>\n",
       "      <th>1</th>\n",
       "      <td>Ablon Park Pond (Garland)</td>\n",
       "      <td>2051</td>\n",
       "      <td>Adult</td>\n",
       "    </tr>\n",
       "    <tr>\n",
       "      <th>2</th>\n",
       "      <td>American Legion Park Pond</td>\n",
       "      <td>1702</td>\n",
       "      <td>Adult</td>\n",
       "    </tr>\n",
       "    <tr>\n",
       "      <th>3</th>\n",
       "      <td>Amsler Park</td>\n",
       "      <td>610</td>\n",
       "      <td>Adult</td>\n",
       "    </tr>\n",
       "    <tr>\n",
       "      <th>4</th>\n",
       "      <td>Ascarate</td>\n",
       "      <td>2353</td>\n",
       "      <td>Adult</td>\n",
       "    </tr>\n",
       "    <tr>\n",
       "      <th>...</th>\n",
       "      <td>...</td>\n",
       "      <td>...</td>\n",
       "      <td>...</td>\n",
       "    </tr>\n",
       "    <tr>\n",
       "      <th>147</th>\n",
       "      <td>Waterloo Park Pond</td>\n",
       "      <td>5064</td>\n",
       "      <td>Adult</td>\n",
       "    </tr>\n",
       "    <tr>\n",
       "      <th>148</th>\n",
       "      <td>Winchester lake</td>\n",
       "      <td>617</td>\n",
       "      <td>Adult</td>\n",
       "    </tr>\n",
       "    <tr>\n",
       "      <th>149</th>\n",
       "      <td>Woldert Park Pond</td>\n",
       "      <td>889</td>\n",
       "      <td>Adult</td>\n",
       "    </tr>\n",
       "    <tr>\n",
       "      <th>150</th>\n",
       "      <td>Wyatt's Pond</td>\n",
       "      <td>1261</td>\n",
       "      <td>Adult</td>\n",
       "    </tr>\n",
       "    <tr>\n",
       "      <th>151</th>\n",
       "      <td>Total Stocked</td>\n",
       "      <td>243261</td>\n",
       "      <td>NaN</td>\n",
       "    </tr>\n",
       "  </tbody>\n",
       "</table>\n",
       "<p>152 rows × 3 columns</p>\n",
       "</div>"
      ],
      "text/plain": [
       "                    Water Body  Number Stocked   Size\n",
       "0     A. E. Wood Fish Hatchery             426  Adult\n",
       "1    Ablon Park Pond (Garland)            2051  Adult\n",
       "2    American Legion Park Pond            1702  Adult\n",
       "3                  Amsler Park             610  Adult\n",
       "4                     Ascarate            2353  Adult\n",
       "..                         ...             ...    ...\n",
       "147         Waterloo Park Pond            5064  Adult\n",
       "148            Winchester lake             617  Adult\n",
       "149          Woldert Park Pond             889  Adult\n",
       "150               Wyatt's Pond            1261  Adult\n",
       "151              Total Stocked          243261    NaN\n",
       "\n",
       "[152 rows x 3 columns]"
      ]
     },
     "execution_count": 14,
     "metadata": {},
     "output_type": "execute_result"
    }
   ],
   "source": [
    "rainbow_trout_2018"
   ]
  },
  {
   "cell_type": "code",
   "execution_count": null,
   "id": "457a8b61",
   "metadata": {},
   "outputs": [],
   "source": []
  }
 ],
 "metadata": {
  "kernelspec": {
   "display_name": "Python 3 (ipykernel)",
   "language": "python",
   "name": "python3"
  },
  "language_info": {
   "codemirror_mode": {
    "name": "ipython",
    "version": 3
   },
   "file_extension": ".py",
   "mimetype": "text/x-python",
   "name": "python",
   "nbconvert_exporter": "python",
   "pygments_lexer": "ipython3",
   "version": "3.9.7"
  }
 },
 "nbformat": 4,
 "nbformat_minor": 5
}
